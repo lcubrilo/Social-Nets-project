{
 "cells": [
  {
   "cell_type": "markdown",
   "id": "8e0296bb",
   "metadata": {
    "tags": [
     "papermill-error-cell-tag"
    ]
   },
   "source": [
    "<span style=\"color:red; font-family:Helvetica Neue, Helvetica, Arial, sans-serif; font-size:2em;\">An Exception was encountered at '<a href=\"#papermill-error-cell\">In [4]</a>'.</span>"
   ]
  },
  {
   "cell_type": "code",
   "execution_count": 1,
   "id": "fc7c5056",
   "metadata": {
    "execution": {
     "iopub.execute_input": "2022-09-06T02:59:05.677627Z",
     "iopub.status.busy": "2022-09-06T02:59:05.677627Z",
     "iopub.status.idle": "2022-09-06T02:59:05.744357Z",
     "shell.execute_reply": "2022-09-06T02:59:05.744357Z"
    },
    "papermill": {
     "duration": 0.117687,
     "end_time": "2022-09-06T02:59:05.744357",
     "exception": false,
     "start_time": "2022-09-06T02:59:05.626670",
     "status": "completed"
    },
    "tags": [
     "injected-parameters"
    ]
   },
   "outputs": [],
   "source": [
    "# Parameters\n",
    "netName = \"wiki\"\n"
   ]
  },
  {
   "cell_type": "markdown",
   "id": "4be99143",
   "metadata": {
    "papermill": {
     "duration": 0.050589,
     "end_time": "2022-09-06T02:59:05.861899",
     "exception": false,
     "start_time": "2022-09-06T02:59:05.811310",
     "status": "completed"
    },
    "tags": []
   },
   "source": [
    "# *Social Nets*: **Wikipedia Requests for Adminship**"
   ]
  },
  {
   "cell_type": "markdown",
   "id": "ca964e30",
   "metadata": {
    "papermill": {
     "duration": 0.066947,
     "end_time": "2022-09-06T02:59:05.995532",
     "exception": false,
     "start_time": "2022-09-06T02:59:05.928585",
     "status": "completed"
    },
    "tags": []
   },
   "source": [
    "##### Imports:"
   ]
  },
  {
   "cell_type": "code",
   "execution_count": 2,
   "id": "76ac33a5",
   "metadata": {
    "execution": {
     "iopub.execute_input": "2022-09-06T02:59:06.110940Z",
     "iopub.status.busy": "2022-09-06T02:59:06.110940Z",
     "iopub.status.idle": "2022-09-06T02:59:06.128600Z",
     "shell.execute_reply": "2022-09-06T02:59:06.126566Z"
    },
    "papermill": {
     "duration": 0.084138,
     "end_time": "2022-09-06T02:59:06.128600",
     "exception": false,
     "start_time": "2022-09-06T02:59:06.044462",
     "status": "completed"
    },
    "tags": [
     "Parameters"
    ]
   },
   "outputs": [],
   "source": [
    "netName = \"\""
   ]
  },
  {
   "cell_type": "code",
   "execution_count": 3,
   "id": "6fe4511a",
   "metadata": {
    "execution": {
     "iopub.execute_input": "2022-09-06T02:59:06.226877Z",
     "iopub.status.busy": "2022-09-06T02:59:06.211248Z",
     "iopub.status.idle": "2022-09-06T02:59:11.610934Z",
     "shell.execute_reply": "2022-09-06T02:59:11.610934Z"
    },
    "papermill": {
     "duration": 5.430342,
     "end_time": "2022-09-06T02:59:11.610934",
     "exception": false,
     "start_time": "2022-09-06T02:59:06.180592",
     "status": "completed"
    },
    "tags": []
   },
   "outputs": [],
   "source": [
    "from SocnetPackage import GraphVisualisation\n",
    "from SocnetPackage.DataGeneration import SmallExamples, GenerateBigNets, LoadRealNets\n",
    "from SocnetPackage.BasicFunctionalities import Clusters, Coalitions, GraphOfClusters\n",
    "from SocnetPackage.Metrics import Correlations, Asortativity, Degrees\n",
    "\n",
    "from time import sleep\n",
    "\n",
    "def showMetrics(G, graphName = \"\"):\n",
    "    return\n",
    "    #TODO: x-axis deg; y-axis [3 centralities + shell index]\n",
    "    #smth like Centrality.moreAsortativityPlots(G)\n",
    "    \n",
    "def printClusters(coalitions, noncoalitions, problemEdges):\n",
    "    print(\"Coalitions:\")\n",
    "    for coal in coalitions:\n",
    "        coalitionName = GraphVisualisation.getComponentName(coal)\n",
    "        print(\"\\t{}: {} {}\".format(coalitionName, coal.nodes, coal.edges))\n",
    "    \n",
    "    print(\"Noncoalitions:\")\n",
    "    for nonc, prEd in zip(noncoalitions, problemEdges):\n",
    "        noncoalitionName = GraphVisualisation.getComponentName(coal)\n",
    "        print(\"\\t{}: {} {}\".format(noncoalitionName,  nonc.nodes, nonc.edges))\n",
    "        print(\"\\tProblematic edges: \", prEd)"
   ]
  },
  {
   "cell_type": "markdown",
   "id": "0b7241a1",
   "metadata": {
    "papermill": {
     "duration": 0.04954,
     "end_time": "2022-09-06T02:59:11.711894",
     "exception": false,
     "start_time": "2022-09-06T02:59:11.662354",
     "status": "completed"
    },
    "tags": []
   },
   "source": [
    "## **0 Basic functionalities *(Graph -> Clusters, Graph of Clusters)***\n"
   ]
  },
  {
   "cell_type": "markdown",
   "id": "eeab92c1",
   "metadata": {
    "papermill": {
     "duration": 0.048798,
     "end_time": "2022-09-06T02:59:11.811112",
     "exception": false,
     "start_time": "2022-09-06T02:59:11.762314",
     "status": "completed"
    },
    "tags": []
   },
   "source": [
    "### 1. Get a graph"
   ]
  },
  {
   "cell_type": "markdown",
   "id": "fbaa8722",
   "metadata": {
    "tags": [
     "papermill-error-cell-tag"
    ]
   },
   "source": [
    "<span id=\"papermill-error-cell\" style=\"color:red; font-family:Helvetica Neue, Helvetica, Arial, sans-serif; font-size:2em;\">Execution using papermill encountered an exception here and stopped:</span>"
   ]
  },
  {
   "cell_type": "code",
   "execution_count": 4,
   "id": "9231bdd5",
   "metadata": {
    "execution": {
     "iopub.execute_input": "2022-09-06T02:59:11.895644Z",
     "iopub.status.busy": "2022-09-06T02:59:11.895644Z",
     "iopub.status.idle": "2022-09-06T02:59:17.744186Z",
     "shell.execute_reply": "2022-09-06T02:59:17.744186Z"
    },
    "papermill": {
     "duration": 5.899801,
     "end_time": "2022-09-06T02:59:17.744186",
     "exception": true,
     "start_time": "2022-09-06T02:59:11.844385",
     "status": "failed"
    },
    "tags": []
   },
   "outputs": [
    {
     "ename": "KeyError",
     "evalue": "''",
     "output_type": "error",
     "traceback": [
      "\u001b[1;31m---------------------------------------------------------------------------\u001b[0m",
      "\u001b[1;31mKeyError\u001b[0m                                  Traceback (most recent call last)",
      "Input \u001b[1;32mIn [4]\u001b[0m, in \u001b[0;36m<cell line: 1>\u001b[1;34m()\u001b[0m\n\u001b[1;32m----> 1\u001b[0m G \u001b[38;5;241m=\u001b[39m \u001b[43mLoadRealNets\u001b[49m\u001b[38;5;241;43m.\u001b[39;49m\u001b[43mgetNet\u001b[49m\u001b[43m(\u001b[49m\u001b[43mnetName\u001b[49m\u001b[43m)\u001b[49m\n\u001b[0;32m      2\u001b[0m graphName \u001b[38;5;241m=\u001b[39m \u001b[38;5;124m\"\u001b[39m\u001b[38;5;124mSmall \u001b[39m\u001b[38;5;124m\"\u001b[39m \u001b[38;5;241m+\u001b[39m \u001b[38;5;28mstr\u001b[39m(G)\n",
      "File \u001b[1;32m~\\Documents\\Social-Nets-project\\SocnetPackage\\DataGeneration\\LoadRealNets.py:81\u001b[0m, in \u001b[0;36mgetNet\u001b[1;34m(name)\u001b[0m\n\u001b[0;32m     80\u001b[0m \u001b[38;5;28;01mdef\u001b[39;00m \u001b[38;5;21mgetNet\u001b[39m(name):\n\u001b[1;32m---> 81\u001b[0m     (loadFunc, path) \u001b[38;5;241m=\u001b[39m \u001b[43mfastLoader\u001b[49m\u001b[43m[\u001b[49m\u001b[43mname\u001b[49m\u001b[43m]\u001b[49m\n\u001b[0;32m     82\u001b[0m     G \u001b[38;5;241m=\u001b[39m txtToGraph(path)\n\u001b[0;32m     83\u001b[0m     \u001b[38;5;28;01mif\u001b[39;00m G \u001b[38;5;241m==\u001b[39m \u001b[38;5;28;01mFalse\u001b[39;00m:\n",
      "\u001b[1;31mKeyError\u001b[0m: ''"
     ]
    }
   ],
   "source": [
    "G = LoadRealNets.getNet(netName)\n",
    "graphName = \"Small \" + str(G)"
   ]
  },
  {
   "cell_type": "markdown",
   "id": "027b0819",
   "metadata": {
    "papermill": {
     "duration": null,
     "end_time": null,
     "exception": null,
     "start_time": null,
     "status": "pending"
    },
    "tags": []
   },
   "source": [
    "### 2. Get clusters/components  \n",
    "Divide them into **coalitions** and **noncoalitions**.  \n",
    "**Which branches** prevented some from being coalitions?"
   ]
  },
  {
   "cell_type": "code",
   "execution_count": null,
   "id": "2ad186ac",
   "metadata": {
    "papermill": {
     "duration": null,
     "end_time": null,
     "exception": null,
     "start_time": null,
     "status": "pending"
    },
    "tags": []
   },
   "outputs": [],
   "source": [
    "components = Clusters.BFSComponents(G)\n",
    "coalitions, noncoalitions, problemEdges = Coalitions.filterComponents(components)\n",
    "printClusters(coalitions, noncoalitions, problemEdges)"
   ]
  },
  {
   "cell_type": "markdown",
   "id": "dad7e4a8",
   "metadata": {
    "papermill": {
     "duration": null,
     "end_time": null,
     "exception": null,
     "start_time": null,
     "status": "pending"
    },
    "tags": []
   },
   "source": [
    "### 3. Get graph of clusters"
   ]
  },
  {
   "cell_type": "code",
   "execution_count": null,
   "id": "4abe5aba",
   "metadata": {
    "papermill": {
     "duration": null,
     "end_time": null,
     "exception": null,
     "start_time": null,
     "status": "pending"
    },
    "tags": []
   },
   "outputs": [],
   "source": [
    "G2 = GraphOfClusters.create(G)"
   ]
  },
  {
   "cell_type": "markdown",
   "id": "cffb7af9",
   "metadata": {
    "papermill": {
     "duration": null,
     "end_time": null,
     "exception": null,
     "start_time": null,
     "status": "pending"
    },
    "tags": []
   },
   "source": [
    "## **I Plan for each graph:**"
   ]
  },
  {
   "cell_type": "markdown",
   "id": "0695b283",
   "metadata": {
    "papermill": {
     "duration": null,
     "end_time": null,
     "exception": null,
     "start_time": null,
     "status": "pending"
    },
    "tags": []
   },
   "source": [
    "1. Visualize the graph\n",
    "    - Color code clusters\n",
    "    - Strech out negative edges and contract positive edges  \n",
    "    (to make clusterization visually apparent)\n",
    "2. Distribution:\n",
    "    - Degree distribution\n",
    "    - Complementary cumulative degree distribution (CCD)\n",
    "    - CCD, log y \n",
    "    - CCD, log-log\n",
    "3. Relationships of metrics:\n",
    "    - Deg(Node) -> Deg(Neighbor) \n",
    "    - Average k-degree node -> Deg(k-Neighbourhood)  "
   ]
  },
  {
   "cell_type": "code",
   "execution_count": null,
   "id": "6704c292",
   "metadata": {
    "papermill": {
     "duration": null,
     "end_time": null,
     "exception": null,
     "start_time": null,
     "status": "pending"
    },
    "tags": []
   },
   "outputs": [],
   "source": [
    "def showCaseGraph(someGraph, graphName):\n",
    "    GraphVisualisation.showGraph(someGraph, title=graphName, withLabels=False, showComponents=True)\n",
    "    Degrees.drawCCDegreeDistribution(someGraph, True, graphName)\n",
    "    Asortativity.drawKNNandDeg(someGraph, graphName)"
   ]
  },
  {
   "cell_type": "markdown",
   "id": "574a8cee",
   "metadata": {
    "papermill": {
     "duration": null,
     "end_time": null,
     "exception": null,
     "start_time": null,
     "status": "pending"
    },
    "tags": []
   },
   "source": [
    "## **II Showcase plan:**"
   ]
  },
  {
   "cell_type": "markdown",
   "id": "b1dd9541",
   "metadata": {
    "papermill": {
     "duration": null,
     "end_time": null,
     "exception": null,
     "start_time": null,
     "status": "pending"
    },
    "tags": []
   },
   "source": [
    "### 1. Original graph:"
   ]
  },
  {
   "cell_type": "code",
   "execution_count": null,
   "id": "fae38684",
   "metadata": {
    "papermill": {
     "duration": null,
     "end_time": null,
     "exception": null,
     "start_time": null,
     "status": "pending"
    },
    "tags": []
   },
   "outputs": [],
   "source": [
    "showCaseGraph(G)"
   ]
  },
  {
   "cell_type": "markdown",
   "id": "524d9b1f",
   "metadata": {
    "papermill": {
     "duration": null,
     "end_time": null,
     "exception": null,
     "start_time": null,
     "status": "pending"
    },
    "tags": []
   },
   "source": [
    "### 2. Graph of clusters"
   ]
  },
  {
   "cell_type": "code",
   "execution_count": null,
   "id": "ba608879",
   "metadata": {
    "papermill": {
     "duration": null,
     "end_time": null,
     "exception": null,
     "start_time": null,
     "status": "pending"
    },
    "tags": []
   },
   "outputs": [],
   "source": [
    "showCaseGraph(G2)"
   ]
  },
  {
   "cell_type": "markdown",
   "id": "3f558c88",
   "metadata": {
    "papermill": {
     "duration": null,
     "end_time": null,
     "exception": null,
     "start_time": null,
     "status": "pending"
    },
    "tags": []
   },
   "source": [
    "### 3. Coalitions vs noncoalitions"
   ]
  },
  {
   "cell_type": "code",
   "execution_count": null,
   "id": "0cecdd7f",
   "metadata": {
    "papermill": {
     "duration": null,
     "end_time": null,
     "exception": null,
     "start_time": null,
     "status": "pending"
    },
    "tags": []
   },
   "outputs": [],
   "source": [
    "showCaseGraph(coalitions)"
   ]
  },
  {
   "cell_type": "code",
   "execution_count": null,
   "id": "c1de6526",
   "metadata": {
    "papermill": {
     "duration": null,
     "end_time": null,
     "exception": null,
     "start_time": null,
     "status": "pending"
    },
    "tags": []
   },
   "outputs": [],
   "source": [
    "showCaseGraph(noncoalitions)"
   ]
  }
 ],
 "metadata": {
  "kernelspec": {
   "display_name": "Python 3.10.6 64-bit",
   "language": "python",
   "name": "python3"
  },
  "language_info": {
   "codemirror_mode": {
    "name": "ipython",
    "version": 3
   },
   "file_extension": ".py",
   "mimetype": "text/x-python",
   "name": "python",
   "nbconvert_exporter": "python",
   "pygments_lexer": "ipython3",
   "version": "3.10.6"
  },
  "papermill": {
   "default_parameters": {},
   "duration": 19.809207,
   "end_time": "2022-09-06T02:59:19.095599",
   "environment_variables": {},
   "exception": true,
   "input_path": "Layout3.ipynb",
   "output_path": "FinalReport/output.ipynb",
   "parameters": {
    "netName": "wiki"
   },
   "start_time": "2022-09-06T02:58:59.286392",
   "version": "2.4.0"
  },
  "vscode": {
   "interpreter": {
    "hash": "b6831fdcc8d1dbdf229dbca682f9bfb4c7cd4f79f05ee82647bfdfb313ccbe3c"
   }
  }
 },
 "nbformat": 4,
 "nbformat_minor": 5
}