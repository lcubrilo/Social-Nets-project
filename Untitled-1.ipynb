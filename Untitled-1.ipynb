{
 "cells": [
  {
   "cell_type": "code",
   "execution_count": 2,
   "metadata": {},
   "outputs": [],
   "source": [
    "import networkx as nx\n",
    "G = nx.Graph(); i = 0; limiter = -1\n",
    "                    \n",
    "with open(r\"SocnetPackage\\DataGeneration\\wiki-RfA.txt\", 'r', encoding=\"utf8\") as f:\n",
    "    users = {}\n",
    "    for line in f:\n",
    "        tag, data = line[:3].strip(), line[4:].strip()\n",
    "        if tag == \"SRC\": \n",
    "            if data not in users: users[data] = len(users) #giving them unique integer IDs\n",
    "            u = users[data]\n",
    "        elif tag == \"TGT\": \n",
    "            if data not in users: users[data] = len(users)\n",
    "            v = users[data]\n",
    "        elif tag == \"VOT\":\n",
    "            if G.has_edge(u, v):\n",
    "                if G.edges[u, v][\"color\"] == \"red\": continue\n",
    "            G.add_edge(u, v, color = \"red\" if data == \"-1\" else \"green\")\n",
    "        else: continue\n",
    "\n",
    "        i+=1\n",
    "        if limiter != -1 and i > limiter: \n",
    "            break"
   ]
  },
  {
   "cell_type": "code",
   "execution_count": 8,
   "metadata": {},
   "outputs": [
    {
     "name": "stdout",
     "output_type": "stream",
     "text": [
      "Graph with 11381 nodes and 181999 edges\n"
     ]
    }
   ],
   "source": [
    "print(G)\n",
    "import Tasks\n",
    "Tasks.assignGraphsToTasks(G)"
   ]
  },
  {
   "cell_type": "code",
   "execution_count": null,
   "metadata": {},
   "outputs": [],
   "source": []
  }
 ],
 "metadata": {
  "kernelspec": {
   "display_name": "Python 3.9.0 64-bit",
   "language": "python",
   "name": "python3"
  },
  "language_info": {
   "codemirror_mode": {
    "name": "ipython",
    "version": 3
   },
   "file_extension": ".py",
   "mimetype": "text/x-python",
   "name": "python",
   "nbconvert_exporter": "python",
   "pygments_lexer": "ipython3",
   "version": "3.9.0"
  },
  "orig_nbformat": 4,
  "vscode": {
   "interpreter": {
    "hash": "4800753bada0a4ced11d2d05be0d99f555b420592bdce5f66cf64ea5134d0db2"
   }
  }
 },
 "nbformat": 4,
 "nbformat_minor": 2
}
